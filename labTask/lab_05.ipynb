{
 "cells": [
  {
   "cell_type": "code",
   "execution_count": 18,
   "id": "5338746b",
   "metadata": {},
   "outputs": [],
   "source": [
    "import numpy as np\n",
    "import pandas as pd\n",
    "import matplotlib.pyplot as  plt\n",
    "import seaborn as sns\n",
    "\n",
    "s1 = pd.Series([1, 2, 3, 4, 5, 6, 6, 7, 8, 9, 10, 11])\n",
    "s2 = pd.Series([4, 5, 5, 5, 6, 6, 6, 6, 7, 7, 7, 8])"
   ]
  },
  {
   "cell_type": "code",
   "execution_count": 6,
   "id": "59bd0a20",
   "metadata": {},
   "outputs": [
    {
     "data": {
      "text/plain": [
       "0.0"
      ]
     },
     "execution_count": 6,
     "metadata": {},
     "output_type": "execute_result"
    }
   ],
   "source": [
    "S1 = s1.skew()\n",
    "S1"
   ]
  },
  {
   "cell_type": "code",
   "execution_count": 8,
   "id": "ec14846f",
   "metadata": {},
   "outputs": [
    {
     "data": {
      "text/plain": [
       "0.0"
      ]
     },
     "execution_count": 8,
     "metadata": {},
     "output_type": "execute_result"
    }
   ],
   "source": [
    "S2 = s2.skew()\n",
    "S2"
   ]
  },
  {
   "cell_type": "code",
   "execution_count": 11,
   "id": "855e8f6f",
   "metadata": {},
   "outputs": [
    {
     "data": {
      "text/plain": [
       "0.0"
      ]
     },
     "execution_count": 11,
     "metadata": {},
     "output_type": "execute_result"
    }
   ],
   "source": [
    "(s1.quantile(0.75)+s1.quantile(0.25)-2*s1.median())/(s1.quantile(0.75)-s1.quantile(0.25))"
   ]
  },
  {
   "cell_type": "code",
   "execution_count": 17,
   "id": "af4a26b5",
   "metadata": {},
   "outputs": [
    {
     "data": {
      "text/plain": [
       "0.0"
      ]
     },
     "execution_count": 17,
     "metadata": {},
     "output_type": "execute_result"
    }
   ],
   "source": [
    "(s2.quantile(0.75)+ s2.quantile(0.25)-2*s2.median())/(s2.quantile(0.75)-s2.quantile(0.25))"
   ]
  },
  {
   "cell_type": "code",
   "execution_count": 20,
   "id": "2b20d975",
   "metadata": {},
   "outputs": [
    {
     "data": {
      "text/plain": [
       "-0.948"
      ]
     },
     "execution_count": 20,
     "metadata": {},
     "output_type": "execute_result"
    }
   ],
   "source": [
    "s1.kurtosis()"
   ]
  },
  {
   "cell_type": "code",
   "execution_count": 22,
   "id": "4642ca41",
   "metadata": {},
   "outputs": [
    {
     "data": {
      "text/plain": [
       "-0.33673469387755084"
      ]
     },
     "execution_count": 22,
     "metadata": {},
     "output_type": "execute_result"
    }
   ],
   "source": [
    "s2.kurtosis()"
   ]
  },
  {
   "cell_type": "code",
   "execution_count": 23,
   "id": "9e3dde13",
   "metadata": {},
   "outputs": [
    {
     "data": {
      "text/plain": [
       "0      1.4\n",
       "1      1.4\n",
       "2      1.3\n",
       "3      1.5\n",
       "4      1.4\n",
       "      ... \n",
       "145    5.2\n",
       "146    5.0\n",
       "147    5.2\n",
       "148    5.4\n",
       "149    5.1\n",
       "Name: petal_length, Length: 150, dtype: float64"
      ]
     },
     "execution_count": 23,
     "metadata": {},
     "output_type": "execute_result"
    }
   ],
   "source": [
    "iris = sns.load_dataset(\"iris\")['petal_length']\n",
    "iris"
   ]
  },
  {
   "cell_type": "code",
   "execution_count": 24,
   "id": "46c49442",
   "metadata": {},
   "outputs": [
    {
     "data": {
      "text/plain": [
       "-0.27488417975101276"
      ]
     },
     "execution_count": 24,
     "metadata": {},
     "output_type": "execute_result"
    }
   ],
   "source": [
    "iris.skew()"
   ]
  },
  {
   "cell_type": "code",
   "execution_count": 25,
   "id": "c11c4a70",
   "metadata": {},
   "outputs": [
    {
     "data": {
      "text/plain": [
       "-0.5714285714285715"
      ]
     },
     "execution_count": 25,
     "metadata": {},
     "output_type": "execute_result"
    }
   ],
   "source": [
    "(iris.quantile(0.75)+ iris.quantile(0.25)-2*iris.median())/(iris.quantile(0.75)- iris.quantile(0.25))"
   ]
  },
  {
   "cell_type": "code",
   "execution_count": 26,
   "id": "e3abe00c",
   "metadata": {},
   "outputs": [
    {
     "data": {
      "text/plain": [
       "-1.4021034155217518"
      ]
     },
     "execution_count": 26,
     "metadata": {},
     "output_type": "execute_result"
    }
   ],
   "source": [
    "iris.kurtosis()"
   ]
  },
  {
   "cell_type": "code",
   "execution_count": 27,
   "id": "3c025754",
   "metadata": {},
   "outputs": [
    {
     "data": {
      "text/plain": [
       "count    150.000000\n",
       "mean       3.758000\n",
       "std        1.765298\n",
       "min        1.000000\n",
       "25%        1.600000\n",
       "50%        4.350000\n",
       "75%        5.100000\n",
       "max        6.900000\n",
       "Name: petal_length, dtype: float64"
      ]
     },
     "execution_count": 27,
     "metadata": {},
     "output_type": "execute_result"
    }
   ],
   "source": [
    "iris.describe()"
   ]
  },
  {
   "cell_type": "code",
   "execution_count": 28,
   "id": "185bd8a9",
   "metadata": {},
   "outputs": [
    {
     "data": {
      "text/plain": [
       "4.35"
      ]
     },
     "execution_count": 28,
     "metadata": {},
     "output_type": "execute_result"
    }
   ],
   "source": [
    "iris.median()"
   ]
  },
  {
   "cell_type": "code",
   "execution_count": 29,
   "id": "3ba3b840",
   "metadata": {},
   "outputs": [
    {
     "data": {
      "text/plain": [
       "0    1.4\n",
       "1    1.5\n",
       "Name: petal_length, dtype: float64"
      ]
     },
     "execution_count": 29,
     "metadata": {},
     "output_type": "execute_result"
    }
   ],
   "source": [
    "iris.mode()"
   ]
  },
  {
   "cell_type": "code",
   "execution_count": 31,
   "id": "4e945155",
   "metadata": {},
   "outputs": [
    {
     "data": {
      "image/png": "[encoded data removed]",
      "text/plain": [
       "<Figure size 640x480 with 1 Axes>"
      ]
     },
     "metadata": {},
     "output_type": "display_data"
    }
   ],
   "source": [
    "sns.boxplot(x = 'petal_length', data= sns.load_dataset(\"iris\"))\n",
    "plt.title(\"Box Plot of Petal Length\")\n",
    "plt.xlabel(\"Species\")\n",
    "plt.ylabel(\"Petal Length\")\n",
    "plt.show()"
   ]
  },
  {
   "cell_type": "code",
   "execution_count": 42,
   "id": "c6986e7d",
   "metadata": {},
   "outputs": [
    {
     "data": {
      "text/plain": [
       "species\n",
       "setosa        0.106394\n",
       "versicolor   -0.606508\n",
       "virginica     0.549445\n",
       "Name: petal_length, dtype: float64"
      ]
     },
     "execution_count": 42,
     "metadata": {},
     "output_type": "execute_result"
    }
   ],
   "source": [
    "new = sns.load_dataset(\"iris\").groupby('species')['petal_length']\n",
    "\n",
    "new.skew()"
   ]
  },
  {
   "cell_type": "code",
   "execution_count": 34,
   "id": "b01c77ca",
   "metadata": {},
   "outputs": [
    {
     "data": {
      "text/plain": [
       "species\n",
       "setosa        0.011494\n",
       "versicolor   -0.117647\n",
       "virginica    -0.058824\n",
       "Name: petal_length, dtype: float64"
      ]
     },
     "execution_count": 34,
     "metadata": {},
     "output_type": "execute_result"
    }
   ],
   "source": [
    "(new.quantile(0.75)+new.quantile(0.25)-2*new.median())/(new.quantile(0.75)-s1.quantile(0.25))"
   ]
  },
  {
   "cell_type": "code",
   "execution_count": 45,
   "id": "80a22f20",
   "metadata": {},
   "outputs": [
    {
     "data": {
      "text/plain": [
       "species\n",
       "setosa        1.021576\n",
       "versicolor    0.047903\n",
       "virginica    -0.153779\n",
       "Name: petal_length, dtype: float64"
      ]
     },
     "execution_count": 45,
     "metadata": {},
     "output_type": "execute_result"
    }
   ],
   "source": [
    "new.apply(pd.Series.kurtosis)"
   ]
  },
  {
   "cell_type": "code",
   "execution_count": 46,
   "id": "3b5a6326",
   "metadata": {},
   "outputs": [
    {
     "data": {
      "image/png": "[encoded data removed]",
      "text/plain": [
       "<Figure size 640x480 with 1 Axes>"
      ]
     },
     "metadata": {},
     "output_type": "display_data"
    }
   ],
   "source": [
    "sns.boxplot(x='species', y='petal_length', data= sns.load_dataset(\"iris\"))\n",
    "plt.title(\"Box Plot of Petal Length by Species\")\n",
    "plt.xlabel(\"Species\")\n",
    "plt.ylabel(\"Petal Length\")\n",
    "plt.show()"
   ]
  },
  {
   "cell_type": "code",
   "execution_count": 47,
   "id": "e905ac6a",
   "metadata": {},
   "outputs": [
    {
     "data": {
      "image/png": "[encoded data removed]",
      "text/plain": [
       "<Figure size 640x480 with 1 Axes>"
      ]
     },
     "metadata": {},
     "output_type": "display_data"
    }
   ],
   "source": [
    "possum = pd.read_excel('D:\\LabHw\\ProbabilityLab\\possum_data.xlsx')\n",
    "sns.boxplot(x='taill', data = possum)\n",
    "plt.title(\"Box Plot \")\n",
    "plt.xlabel(\"--\")\n",
    "plt.show()"
   ]
  },
  {
   "cell_type": "code",
   "execution_count": 48,
   "id": "7a5366fd",
   "metadata": {},
   "outputs": [
    {
     "data": {
      "image/png": "[encoded data removed]",
      "text/plain": [
       "<Figure size 640x480 with 1 Axes>"
      ]
     },
     "metadata": {},
     "output_type": "display_data"
    }
   ],
   "source": [
    "possum.hist( column ='taill', bins= 10)\n",
    "plt.xlabel('taill')\n",
    "plt.ylabel('Frequency')\n",
    "plt.title('Histogram of taill Variable')\n",
    "plt.show()"
   ]
  },
  {
   "cell_type": "code",
   "execution_count": 52,
   "id": "1dff21b7",
   "metadata": {},
   "outputs": [
    {
     "data": {
      "text/plain": [
       "0.1678687030335119"
      ]
     },
     "execution_count": 52,
     "metadata": {},
     "output_type": "execute_result"
    }
   ],
   "source": [
    "possum['taill'].skew()"
   ]
  },
  {
   "cell_type": "code",
   "execution_count": 54,
   "id": "33451953",
   "metadata": {},
   "outputs": [
    {
     "data": {
      "text/plain": [
       "-0.058823529411764705"
      ]
     },
     "execution_count": 54,
     "metadata": {},
     "output_type": "execute_result"
    }
   ],
   "source": [
    "(possum['taill'].quantile(0.75)+possum['taill'].quantile(0.25)-2*possum['taill'].median())/(possum['taill'].quantile(0.75)-possum['taill'].quantile(0.25))"
   ]
  },
  {
   "cell_type": "code",
   "execution_count": 53,
   "id": "a56bfd67",
   "metadata": {},
   "outputs": [
    {
     "data": {
      "text/plain": [
       "0.3971972583172181"
      ]
     },
     "execution_count": 53,
     "metadata": {},
     "output_type": "execute_result"
    }
   ],
   "source": [
    "possum['taill'].kurtosis()"
   ]
  },
  {
   "cell_type": "code",
   "execution_count": 55,
   "id": "a9038750",
   "metadata": {},
   "outputs": [
    {
     "data": {
      "image/png": "[encoded data removed]",
      "text/plain": [
       "<Figure size 640x480 with 2 Axes>"
      ]
     },
     "metadata": {},
     "output_type": "display_data"
    }
   ],
   "source": [
    "possum.hist( column ='taill', by= 'sex', bins= 10)\n",
    "plt.xlabel('taill')\n",
    "plt.ylabel('Frequency')\n",
    "plt.title('Histogram of taill Variable')\n",
    "plt.show()"
   ]
  },
  {
   "cell_type": "code",
   "execution_count": null,
   "id": "013d2d8f",
   "metadata": {},
   "outputs": [],
   "source": []
  }
 ],
 "metadata": {
  "kernelspec": {
   "display_name": "Python 3 (ipykernel)",
   "language": "python",
   "name": "python3"
  },
  "language_info": {
   "codemirror_mode": {
    "name": "ipython",
    "version": 3
   },
   "file_extension": ".py",
   "mimetype": "text/x-python",
   "name": "python",
   "nbconvert_exporter": "python",
   "pygments_lexer": "ipython3",
   "version": "3.11.5"
  }
 },
 "nbformat": 4,
 "nbformat_minor": 5
}
